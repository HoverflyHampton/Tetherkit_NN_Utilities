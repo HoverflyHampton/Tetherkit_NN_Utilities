{
 "cells": [
  {
   "cell_type": "code",
   "execution_count": 1,
   "id": "72e8facb-786a-474a-88b2-bbe7df341993",
   "metadata": {},
   "outputs": [],
   "source": [
    "import numpy as np\n",
    "import pandas as pd\n",
    "from google.colab import files"
   ]
  },
  {
   "cell_type": "code",
   "execution_count": 2,
   "id": "5843fef2-0fb4-471b-af32-9cafbc42ee68",
   "metadata": {},
   "outputs": [],
   "source": [
    "# constants\n",
    "earth_radius = 6371e3"
   ]
  },
  {
   "cell_type": "code",
   "execution_count": 3,
   "id": "70ada498-e709-48bf-95c5-a7ce67e8b9aa",
   "metadata": {},
   "outputs": [],
   "source": [
    "'''helper function to find the point where the craft takes off\n",
    "   uses the motor current as an indicator - marks take off as the \n",
    "   first momement that the current spikes'''\n",
    "def find_launch_index(df: pd.DataFrame, cutoff = 5000):\n",
    "    return df.where(df['pow_motorCurrentTotal'].gt(cutoff)).first_valid_index()"
   ]
  },
  {
   "cell_type": "code",
   "execution_count": 4,
   "id": "3f282a2d-d8a3-40ca-8ed9-eb16928c0d57",
   "metadata": {},
   "outputs": [],
   "source": [
    "'''Helper function to create convert degrees lat/lon to radians\n",
    "   The numpy trig functions use radians, so it is useful to convert\n",
    "   all of our gps coordinates to radians'''\n",
    "def create_gps_rads_columns(df):\n",
    "    df['rtk_lat_rads'] = np.deg2rad(df['gps_gps2LatR']*10e-8, dtype=np.double)\n",
    "    df['rtk_lon_rads'] = np.deg2rad(df['gps_gps2LonR']*10e-8, dtype=np.double)"
   ]
  },
  {
   "cell_type": "code",
   "execution_count": 5,
   "id": "cfdda528-2945-4798-ba25-1e6735e6df50",
   "metadata": {},
   "outputs": [],
   "source": [
    "'''Helper funtion that gets a (lat, lon) tuple for a given index in the dataframe'''\n",
    "def get_lat_lon(df, index):\n",
    "    return (df['rtk_lat_rads'].iloc[index], df['rtk_lon_rads'].iloc[index]) "
   ]
  },
  {
   "cell_type": "code",
   "execution_count": 6,
   "id": "81c87417-24f2-4e84-a923-745f13bfdbe4",
   "metadata": {},
   "outputs": [],
   "source": [
    "'''Function to calculate the straight line distance between\n",
    "   the launch point of the craft and its current location.\n",
    "   Creates a new column in the dataframe (rtk_delta_meters)\n",
    "   that contains this distance in meters'''\n",
    "def get_gps_meter_delta(df, tk_lat, tk_lon):\n",
    "    df['delta_lat_rad'] = df['rtk_lat_rads'] - tk_lat\n",
    "    df['delta_lon_rad'] = df['rtk_lon_rads'] - tk_lon\n",
    "\n",
    "    \n",
    "    df['rtk_a'] = (\n",
    "        (np.sin(df['delta_lat_rad']/2.0) * np.sin(df['delta_lat_rad']/2.0)) + \n",
    "        (np.cos(tk_lat) * np.cos(df['rtk_lat_rads']) *\n",
    "        (np.sin(df['delta_lon_rad']/2.0) * np.sin(df['delta_lon_rad']/2.0)))\n",
    "    )\n",
    "    df['rtk_c'] = (\n",
    "        2 * np.arctan2(np.sqrt(df['rtk_a']), np.sqrt(1-df['rtk_a']))\n",
    "    )\n",
    "    df['rtk_delta_meters'] = (\n",
    "        earth_radius * df['rtk_c']\n",
    "    )"
   ]
  },
  {
   "cell_type": "code",
   "execution_count": 7,
   "id": "2b6c658c-fc89-44f3-91e8-e54b139667e2",
   "metadata": {},
   "outputs": [],
   "source": [
    "'''Function to calculate the bearing of the crafts current location\n",
    "   relative to the launch location. Creates a new column in the \n",
    "   dataframe (rtk_theta) that contains this bearing in radians'''\n",
    "def get_gps_angle_delta(df, tk_lat, tk_lon):\n",
    "    df['rtk_theta_y'] = np.sin(df['delta_lon_rad']) * np.cos(df['rtk_lat_rads'])\n",
    "    df['rtk_theta_x'] = ((np.cos(tk_lat) * np.sin(df['rtk_lat_rads'])) - \n",
    "                   (np.sin(tk_lat) * np.cos(df['rtk_lat_rads'] * np.cos(df['delta_lon_rad'])))\n",
    "                   )\n",
    "    df['rtk_theta'] = np.arctan2(df['rtk_theta_y'], df['rtk_theta_x'])"
   ]
  },
  {
   "cell_type": "code",
   "execution_count": 8,
   "id": "e9ceaa0d-75c9-4860-bf4d-f86e6098b8b9",
   "metadata": {},
   "outputs": [],
   "source": [
    "'''Functions to calculate the x/y distance of the craft from the launch location\n",
    "   Assumes the existance of rtk_delta_meters ans rtk_theta, and creates\n",
    "   two new columns (rtk_x_m and rtk_y_m) that are the x and y distances\n",
    "   from launch in meters'''\n",
    "def get_gps_xy_delta(df):\n",
    "     df['rtk_x_m'] = np.cos(df['rtk_theta']) * df['rtk_delta_meters']\n",
    "     df['rtk_y_m'] = np.sin(df['rtk_theta']) * df['rtk_delta_meters']"
   ]
  },
  {
   "cell_type": "code",
   "execution_count": 9,
   "id": "1e91d45c-450d-4f14-b340-865f6ed9810b",
   "metadata": {},
   "outputs": [],
   "source": [
    "'''Helper function to create a cleaned up dataframe from the original\n",
    "   bgu dataframe after is has been run through the process of finding\n",
    "   distance from launch. The new dataframe truncates the data to only\n",
    "   moments while the craft is flying (as indicated by the motor current)\n",
    "   and drops all columns not used by the neural network.'''\n",
    "def make_clean_dataframe(df: pd.DataFrame, motor_cutoff: int, data_collection_id: str):\n",
    "\n",
    "    truncated_data = df.loc[(df['pow_motorCurrentTotal'] > 5000)]\n",
    "\n",
    "    clean_data = truncated_data.filter(['alt_tetherPosition',\n",
    "                            'wnd_windSpeed',\n",
    "                            'wnd_windBearing',\n",
    "                            'cft_craftHeading',\n",
    "                            'cft_craftPitch',\n",
    "                            'cft_craftRoll',\n",
    "                            'ats_imuPitch',\n",
    "                            'ats_imuRoll',\n",
    "                            'alt_lidarAltitude',\n",
    "                            'alt_sonarAltitude',\n",
    "                            'rtk_x_m',\n",
    "                            'rtk_y_m'], axis=1)\n",
    "    # Training Features\n",
    "    clean_data = clean_data.rename(columns={'alt_tetherPosition':'Tether_Length',\n",
    "                        'wnd_windSpeed':'Wind_Speed',\n",
    "                        'wnd_windBearing':'Wind_Direction',\n",
    "                        'cft_craftHeading':'Craft_Direction',\n",
    "                        'cft_craftPitch':'Craft_Pitch',\n",
    "                        'cft_craftRoll':'Craft_Roll',\n",
    "                        'ats_imuPitch':'ATS_Pitch',\n",
    "                        'ats_imuRoll':'ATS_Roll',\n",
    "                        'alt_lidarAltitude':'Lidar_Altitude',\n",
    "                        'alt_sonarAltitude':'Sonar_Altitude',\n",
    "                        'rtk_x_m':'True_Local_Position_X',\n",
    "                        'rtk_y_m':'True_Local_Position_Y',\n",
    "                    })\n",
    "\n",
    "    # Metadata Label\n",
    "    clean_data['Dataset'] = [data_collection_id] * len(clean_data)\n",
    "    return clean_data"
   ]
  },
  {
   "cell_type": "code",
   "execution_count": 11,
   "id": "c819adbe-cec3-4c04-882b-603c15fbe9e0",
   "metadata": {},
   "outputs": [],
   "source": [
    "'''This function takes in a bgu csv file, and runs it through\n",
    "   a preprocessor steps to prepare it for input into a neural\n",
    "   network, then returns a cleaned up dataframe with the\n",
    "   proccessed data'''\n",
    "def bgu_to_tf(filename):\n",
    "        df = pd.read_csv(filename, lines=True)\n",
    "        df.columns = df.columns.str.replace(' ', '')\n",
    "        launch_idx = find_launch_index(df)\n",
    "        create_gps_rads_columns(df)\n",
    "        tk_lat, tk_lon =  get_lat_lon(df, launch_idx)\n",
    "        \n",
    "        get_gps_meter_delta(df, tk_lat, tk_lon)\n",
    "        get_gps_angle_delta(df, tk_lat, tk_lon)\n",
    "        get_gps_xy_delta(df)\n",
    "\n",
    "        return make_clean_dataframe(df, 5000, data_collection_id=filename)"
   ]
  },
  {
   "cell_type": "code",
   "execution_count": 12,
   "id": "251cac52-8c5b-4548-89f6-e9c5ed3eed85",
   "metadata": {},
   "outputs": [],
   "source": [
    "'''This function allows you to upload a collection of bgu csv files to\n",
    "   google colab, then run the preprocessing function over them, returning\n",
    "   a single combined dataset at the end'''\n",
    "def make_dataset_from_upload(logging: bool):\n",
    "    csv_files = files.upload()\n",
    "    end_df = pd.DataFrame()\n",
    "    for indx, file in enumerate(csv_files.keys()):\n",
    "        if logging:\n",
    "            print(\"Starting File {} of {}\".format(indx+1, len(csv_files)))\n",
    "        end_df = pd.concat([end_df, bgu_to_tf(file)], ignore_index=True)\n",
    "\n",
    "    return end_df"
   ]
  },
  {
   "cell_type": "code",
   "execution_count": 13,
   "id": "6f6264d4-a1b8-46c9-97da-d903e15a6aa7",
   "metadata": {},
   "outputs": [],
   "source": [
    "'''This function creates a csv file from a dataframe, and then\n",
    "   downloads the csv file'''\n",
    "def serialize_dataframe(df: pd.DataFrame, output_file):\n",
    "    df.to_csv(output_file, index=False)\n",
    "    files.download(output_file)"
   ]
  },
  {
   "cell_type": "code",
   "execution_count": null,
   "id": "80fba116-6099-4737-814a-e2afe6bb57e1",
   "metadata": {},
   "outputs": [],
   "source": [
    "'''Run the collection code, uploading files and downloading to the specified file'''\n",
    "output_file = 'NN_Dataset.csv'''\n",
    "\n",
    "print(\"Starting Dataset Collection\")\n",
    "data_set = make_dataset_from_upload(logging=True)\n",
    "serialize_dataframe(data_set, output_file)"
   ]
  },
  {
   "cell_type": "code",
   "execution_count": null,
   "id": "7992bc5d-4685-492b-a954-e10db6264dc4",
   "metadata": {},
   "outputs": [],
   "source": []
  }
 ],
 "metadata": {
  "kernelspec": {
   "display_name": "Python 3 (ipykernel)",
   "language": "python",
   "name": "python3"
  },
  "language_info": {
   "codemirror_mode": {
    "name": "ipython",
    "version": 3
   },
   "file_extension": ".py",
   "mimetype": "text/x-python",
   "name": "python",
   "nbconvert_exporter": "python",
   "pygments_lexer": "ipython3",
   "version": "3.10.8"
  }
 },
 "nbformat": 4,
 "nbformat_minor": 5
}
