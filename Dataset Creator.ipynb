{
  "cells": [
    {
      "cell_type": "code",
      "execution_count": 1,
      "id": "72e8facb-786a-474a-88b2-bbe7df341993",
      "metadata": {
        "id": "72e8facb-786a-474a-88b2-bbe7df341993"
      },
      "outputs": [],
      "source": [
        "import numpy as np\n",
        "import pandas as pd\n",
        "from google.colab import files"
      ]
    },
    {
      "cell_type": "code",
      "execution_count": 2,
      "id": "5843fef2-0fb4-471b-af32-9cafbc42ee68",
      "metadata": {
        "id": "5843fef2-0fb4-471b-af32-9cafbc42ee68"
      },
      "outputs": [],
      "source": [
        "# constants\n",
        "earth_radius = 6371e3"
      ]
    },
    {
      "cell_type": "code",
      "execution_count": 3,
      "id": "70ada498-e709-48bf-95c5-a7ce67e8b9aa",
      "metadata": {
        "id": "70ada498-e709-48bf-95c5-a7ce67e8b9aa"
      },
      "outputs": [],
      "source": [
        "'''helper function to find the point where the craft takes off\n",
        "   uses the motor current as an indicator - marks take off as the\n",
        "   first momement that the current spikes'''\n",
        "def find_launch_index(df: pd.DataFrame, cutoff = 5000):\n",
        "    return df.where(df['pow_motorCurrentTotal'].gt(cutoff)).first_valid_index()"
      ]
    },
    {
      "cell_type": "code",
      "execution_count": 4,
      "id": "3f282a2d-d8a3-40ca-8ed9-eb16928c0d57",
      "metadata": {
        "id": "3f282a2d-d8a3-40ca-8ed9-eb16928c0d57"
      },
      "outputs": [],
      "source": [
        "'''Helper function to create convert degrees lat/lon to radians\n",
        "   The numpy trig functions use radians, so it is useful to convert\n",
        "   all of our gps coordinates to radians'''\n",
        "def create_gps_rads_columns(df):\n",
        "    df['rtk_lat_rads'] = np.deg2rad(df['gps_gps2LatR']*10e-8, dtype=np.double)\n",
        "    df['rtk_lon_rads'] = np.deg2rad(df['gps_gps2LonR']*10e-8, dtype=np.double)"
      ]
    },
    {
      "cell_type": "code",
      "execution_count": 5,
      "id": "cfdda528-2945-4798-ba25-1e6735e6df50",
      "metadata": {
        "id": "cfdda528-2945-4798-ba25-1e6735e6df50"
      },
      "outputs": [],
      "source": [
        "'''Helper funtion that gets a (lat, lon) tuple for a given index in the dataframe'''\n",
        "def get_lat_lon(df, index):\n",
        "    return (df['rtk_lat_rads'].iloc[index], df['rtk_lon_rads'].iloc[index])"
      ]
    },
    {
      "cell_type": "code",
      "execution_count": 6,
      "id": "81c87417-24f2-4e84-a923-745f13bfdbe4",
      "metadata": {
        "id": "81c87417-24f2-4e84-a923-745f13bfdbe4"
      },
      "outputs": [],
      "source": [
        "'''Function to calculate the straight line distance between\n",
        "   the launch point of the craft and its current location.\n",
        "   Creates a new column in the dataframe (rtk_delta_meters)\n",
        "   that contains this distance in meters'''\n",
        "def get_gps_meter_delta(df, tk_lat, tk_lon):\n",
        "    df['delta_lat_rad'] = df['rtk_lat_rads'] - tk_lat\n",
        "    df['delta_lon_rad'] = df['rtk_lon_rads'] - tk_lon\n",
        "\n",
        "\n",
        "    df['rtk_a'] = (\n",
        "        (np.sin(df['delta_lat_rad']/2.0) * np.sin(df['delta_lat_rad']/2.0)) +\n",
        "        (np.cos(tk_lat) * np.cos(df['rtk_lat_rads']) *\n",
        "        (np.sin(df['delta_lon_rad']/2.0) * np.sin(df['delta_lon_rad']/2.0)))\n",
        "    )\n",
        "    df['rtk_c'] = (\n",
        "        2 * np.arctan2(np.sqrt(df['rtk_a']), np.sqrt(1-df['rtk_a']))\n",
        "    )\n",
        "    df['rtk_delta_meters'] = (\n",
        "        earth_radius * df['rtk_c']\n",
        "    )"
      ]
    },
    {
      "cell_type": "code",
      "execution_count": 7,
      "id": "2b6c658c-fc89-44f3-91e8-e54b139667e2",
      "metadata": {
        "id": "2b6c658c-fc89-44f3-91e8-e54b139667e2"
      },
      "outputs": [],
      "source": [
        "'''Function to calculate the bearing of the crafts current location\n",
        "   relative to the launch location. Creates a new column in the\n",
        "   dataframe (rtk_theta) that contains this bearing in radians'''\n",
        "def get_gps_angle_delta(df, tk_lat, tk_lon):\n",
        "    df['rtk_theta_y'] = np.sin(df['delta_lon_rad']) * np.cos(df['rtk_lat_rads'])\n",
        "    df['rtk_theta_x'] = ((np.cos(tk_lat) * np.sin(df['rtk_lat_rads'])) -\n",
        "                   (np.sin(tk_lat) * np.cos(df['rtk_lat_rads'] * np.cos(df['delta_lon_rad'])))\n",
        "                   )\n",
        "    df['rtk_theta'] = np.arctan2(df['rtk_theta_y'], df['rtk_theta_x'])"
      ]
    },
    {
      "cell_type": "code",
      "execution_count": 8,
      "id": "e9ceaa0d-75c9-4860-bf4d-f86e6098b8b9",
      "metadata": {
        "id": "e9ceaa0d-75c9-4860-bf4d-f86e6098b8b9"
      },
      "outputs": [],
      "source": [
        "'''Functions to calculate the x/y distance of the craft from the launch location\n",
        "   Assumes the existance of rtk_delta_meters ans rtk_theta, and creates\n",
        "   two new columns (rtk_x_m and rtk_y_m) that are the x and y distances\n",
        "   from launch in meters'''\n",
        "def get_gps_xy_delta(df):\n",
        "     df['rtk_x_m'] = np.cos(df['rtk_theta']) * df['rtk_delta_meters']\n",
        "     df['rtk_y_m'] = np.sin(df['rtk_theta']) * df['rtk_delta_meters']"
      ]
    },
    {
      "cell_type": "code",
      "execution_count": 9,
      "id": "1e91d45c-450d-4f14-b340-865f6ed9810b",
      "metadata": {
        "id": "1e91d45c-450d-4f14-b340-865f6ed9810b"
      },
      "outputs": [],
      "source": [
        "'''Helper function to create a cleaned up dataframe from the original\n",
        "   bgu dataframe after is has been run through the process of finding\n",
        "   distance from launch. The new dataframe truncates the data to only\n",
        "   moments while the craft is flying (as indicated by the motor current)\n",
        "   and drops all columns not used by the neural network.'''\n",
        "def make_clean_dataframe(df: pd.DataFrame, motor_cutoff: int, data_collection_id: str):\n",
        "\n",
        "    truncated_data = df.loc[(df['pow_motorCurrentTotal'] > 5000)]\n",
        "\n",
        "    clean_data = truncated_data.filter(['alt_tetherPosition',\n",
        "                            'wnd_windSpeed',\n",
        "                            'wnd_windBearing',\n",
        "                            'cft_craftHeading',\n",
        "                            'cft_craftPitch',\n",
        "                            'cft_craftRoll',\n",
        "                            'ats_imuPitch',\n",
        "                            'ats_imuRoll',\n",
        "                            'alt_lidarAltitude',\n",
        "                            'alt_sonarAltitude',\n",
        "                            'rtk_x_m',\n",
        "                            'rtk_y_m'], axis=1)\n",
        "    # Training Features\n",
        "    clean_data = clean_data.rename(columns={'alt_tetherPosition':'Tether_Length',\n",
        "                        'wnd_windSpeed':'Wind_Speed',\n",
        "                        'wnd_windBearing':'Wind_Direction',\n",
        "                        'cft_craftHeading':'Craft_Direction',\n",
        "                        'cft_craftPitch':'Craft_Pitch',\n",
        "                        'cft_craftRoll':'Craft_Roll',\n",
        "                        'ats_imuPitch':'ATS_Pitch',\n",
        "                        'ats_imuRoll':'ATS_Roll',\n",
        "                        'alt_lidarAltitude':'Lidar_Altitude',\n",
        "                        'alt_sonarAltitude':'Sonar_Altitude',\n",
        "                        'rtk_x_m':'True_Local_Position_X',\n",
        "                        'rtk_y_m':'True_Local_Position_Y',\n",
        "                    })\n",
        "\n",
        "    # Metadata Label\n",
        "    clean_data['Dataset'] = [data_collection_id] * len(clean_data)\n",
        "    return clean_data"
      ]
    },
    {
      "cell_type": "code",
      "execution_count": 14,
      "id": "c819adbe-cec3-4c04-882b-603c15fbe9e0",
      "metadata": {
        "id": "c819adbe-cec3-4c04-882b-603c15fbe9e0"
      },
      "outputs": [],
      "source": [
        "'''This function takes in a bgu csv file, and runs it through\n",
        "   a preprocessor steps to prepare it for input into a neural\n",
        "   network, then returns a cleaned up dataframe with the\n",
        "   proccessed data'''\n",
        "def bgu_to_tf(filename):\n",
        "        df = pd.read_csv(filename)\n",
        "        df.columns = df.columns.str.replace(' ', '')\n",
        "        launch_idx = find_launch_index(df)\n",
        "        create_gps_rads_columns(df)\n",
        "        tk_lat, tk_lon =  get_lat_lon(df, launch_idx)\n",
        "\n",
        "        get_gps_meter_delta(df, tk_lat, tk_lon)\n",
        "        get_gps_angle_delta(df, tk_lat, tk_lon)\n",
        "        get_gps_xy_delta(df)\n",
        "\n",
        "        return make_clean_dataframe(df, 5000, data_collection_id=filename)"
      ]
    },
    {
      "cell_type": "code",
      "execution_count": 11,
      "id": "251cac52-8c5b-4548-89f6-e9c5ed3eed85",
      "metadata": {
        "id": "251cac52-8c5b-4548-89f6-e9c5ed3eed85"
      },
      "outputs": [],
      "source": [
        "'''This function allows you to upload a collection of bgu csv files to\n",
        "   google colab, then run the preprocessing function over them, returning\n",
        "   a single combined dataset at the end'''\n",
        "def make_dataset_from_upload(logging: bool):\n",
        "    csv_files = files.upload()\n",
        "    end_df = pd.DataFrame()\n",
        "    for indx, file in enumerate(csv_files.keys()):\n",
        "        if logging:\n",
        "            print(\"Starting File {} of {}\".format(indx+1, len(csv_files)))\n",
        "        end_df = pd.concat([end_df, bgu_to_tf(file)], ignore_index=True)\n",
        "\n",
        "    return end_df"
      ]
    },
    {
      "cell_type": "code",
      "execution_count": 12,
      "id": "6f6264d4-a1b8-46c9-97da-d903e15a6aa7",
      "metadata": {
        "id": "6f6264d4-a1b8-46c9-97da-d903e15a6aa7"
      },
      "outputs": [],
      "source": [
        "'''This function creates a csv file from a dataframe, and then\n",
        "   downloads the csv file'''\n",
        "def serialize_dataframe(df: pd.DataFrame, output_file):\n",
        "    df.to_csv(output_file, index=False)\n",
        "    files.download(output_file)"
      ]
    },
    {
      "cell_type": "code",
      "execution_count": 15,
      "id": "80fba116-6099-4737-814a-e2afe6bb57e1",
      "metadata": {
        "id": "80fba116-6099-4737-814a-e2afe6bb57e1",
        "outputId": "071679e5-7833-4019-b59f-7017f31a5a17",
        "colab": {
          "base_uri": "https://localhost:8080/",
          "height": 160
        }
      },
      "outputs": [
        {
          "output_type": "stream",
          "name": "stdout",
          "text": [
            "Starting Dataset Collection\n"
          ]
        },
        {
          "output_type": "display_data",
          "data": {
            "text/plain": [
              "<IPython.core.display.HTML object>"
            ],
            "text/html": [
              "\n",
              "     <input type=\"file\" id=\"files-1b45a4a9-7ad0-46c9-8986-de33178703a8\" name=\"files[]\" multiple disabled\n",
              "        style=\"border:none\" />\n",
              "     <output id=\"result-1b45a4a9-7ad0-46c9-8986-de33178703a8\">\n",
              "      Upload widget is only available when the cell has been executed in the\n",
              "      current browser session. Please rerun this cell to enable.\n",
              "      </output>\n",
              "      <script>// Copyright 2017 Google LLC\n",
              "//\n",
              "// Licensed under the Apache License, Version 2.0 (the \"License\");\n",
              "// you may not use this file except in compliance with the License.\n",
              "// You may obtain a copy of the License at\n",
              "//\n",
              "//      http://www.apache.org/licenses/LICENSE-2.0\n",
              "//\n",
              "// Unless required by applicable law or agreed to in writing, software\n",
              "// distributed under the License is distributed on an \"AS IS\" BASIS,\n",
              "// WITHOUT WARRANTIES OR CONDITIONS OF ANY KIND, either express or implied.\n",
              "// See the License for the specific language governing permissions and\n",
              "// limitations under the License.\n",
              "\n",
              "/**\n",
              " * @fileoverview Helpers for google.colab Python module.\n",
              " */\n",
              "(function(scope) {\n",
              "function span(text, styleAttributes = {}) {\n",
              "  const element = document.createElement('span');\n",
              "  element.textContent = text;\n",
              "  for (const key of Object.keys(styleAttributes)) {\n",
              "    element.style[key] = styleAttributes[key];\n",
              "  }\n",
              "  return element;\n",
              "}\n",
              "\n",
              "// Max number of bytes which will be uploaded at a time.\n",
              "const MAX_PAYLOAD_SIZE = 100 * 1024;\n",
              "\n",
              "function _uploadFiles(inputId, outputId) {\n",
              "  const steps = uploadFilesStep(inputId, outputId);\n",
              "  const outputElement = document.getElementById(outputId);\n",
              "  // Cache steps on the outputElement to make it available for the next call\n",
              "  // to uploadFilesContinue from Python.\n",
              "  outputElement.steps = steps;\n",
              "\n",
              "  return _uploadFilesContinue(outputId);\n",
              "}\n",
              "\n",
              "// This is roughly an async generator (not supported in the browser yet),\n",
              "// where there are multiple asynchronous steps and the Python side is going\n",
              "// to poll for completion of each step.\n",
              "// This uses a Promise to block the python side on completion of each step,\n",
              "// then passes the result of the previous step as the input to the next step.\n",
              "function _uploadFilesContinue(outputId) {\n",
              "  const outputElement = document.getElementById(outputId);\n",
              "  const steps = outputElement.steps;\n",
              "\n",
              "  const next = steps.next(outputElement.lastPromiseValue);\n",
              "  return Promise.resolve(next.value.promise).then((value) => {\n",
              "    // Cache the last promise value to make it available to the next\n",
              "    // step of the generator.\n",
              "    outputElement.lastPromiseValue = value;\n",
              "    return next.value.response;\n",
              "  });\n",
              "}\n",
              "\n",
              "/**\n",
              " * Generator function which is called between each async step of the upload\n",
              " * process.\n",
              " * @param {string} inputId Element ID of the input file picker element.\n",
              " * @param {string} outputId Element ID of the output display.\n",
              " * @return {!Iterable<!Object>} Iterable of next steps.\n",
              " */\n",
              "function* uploadFilesStep(inputId, outputId) {\n",
              "  const inputElement = document.getElementById(inputId);\n",
              "  inputElement.disabled = false;\n",
              "\n",
              "  const outputElement = document.getElementById(outputId);\n",
              "  outputElement.innerHTML = '';\n",
              "\n",
              "  const pickedPromise = new Promise((resolve) => {\n",
              "    inputElement.addEventListener('change', (e) => {\n",
              "      resolve(e.target.files);\n",
              "    });\n",
              "  });\n",
              "\n",
              "  const cancel = document.createElement('button');\n",
              "  inputElement.parentElement.appendChild(cancel);\n",
              "  cancel.textContent = 'Cancel upload';\n",
              "  const cancelPromise = new Promise((resolve) => {\n",
              "    cancel.onclick = () => {\n",
              "      resolve(null);\n",
              "    };\n",
              "  });\n",
              "\n",
              "  // Wait for the user to pick the files.\n",
              "  const files = yield {\n",
              "    promise: Promise.race([pickedPromise, cancelPromise]),\n",
              "    response: {\n",
              "      action: 'starting',\n",
              "    }\n",
              "  };\n",
              "\n",
              "  cancel.remove();\n",
              "\n",
              "  // Disable the input element since further picks are not allowed.\n",
              "  inputElement.disabled = true;\n",
              "\n",
              "  if (!files) {\n",
              "    return {\n",
              "      response: {\n",
              "        action: 'complete',\n",
              "      }\n",
              "    };\n",
              "  }\n",
              "\n",
              "  for (const file of files) {\n",
              "    const li = document.createElement('li');\n",
              "    li.append(span(file.name, {fontWeight: 'bold'}));\n",
              "    li.append(span(\n",
              "        `(${file.type || 'n/a'}) - ${file.size} bytes, ` +\n",
              "        `last modified: ${\n",
              "            file.lastModifiedDate ? file.lastModifiedDate.toLocaleDateString() :\n",
              "                                    'n/a'} - `));\n",
              "    const percent = span('0% done');\n",
              "    li.appendChild(percent);\n",
              "\n",
              "    outputElement.appendChild(li);\n",
              "\n",
              "    const fileDataPromise = new Promise((resolve) => {\n",
              "      const reader = new FileReader();\n",
              "      reader.onload = (e) => {\n",
              "        resolve(e.target.result);\n",
              "      };\n",
              "      reader.readAsArrayBuffer(file);\n",
              "    });\n",
              "    // Wait for the data to be ready.\n",
              "    let fileData = yield {\n",
              "      promise: fileDataPromise,\n",
              "      response: {\n",
              "        action: 'continue',\n",
              "      }\n",
              "    };\n",
              "\n",
              "    // Use a chunked sending to avoid message size limits. See b/62115660.\n",
              "    let position = 0;\n",
              "    do {\n",
              "      const length = Math.min(fileData.byteLength - position, MAX_PAYLOAD_SIZE);\n",
              "      const chunk = new Uint8Array(fileData, position, length);\n",
              "      position += length;\n",
              "\n",
              "      const base64 = btoa(String.fromCharCode.apply(null, chunk));\n",
              "      yield {\n",
              "        response: {\n",
              "          action: 'append',\n",
              "          file: file.name,\n",
              "          data: base64,\n",
              "        },\n",
              "      };\n",
              "\n",
              "      let percentDone = fileData.byteLength === 0 ?\n",
              "          100 :\n",
              "          Math.round((position / fileData.byteLength) * 100);\n",
              "      percent.textContent = `${percentDone}% done`;\n",
              "\n",
              "    } while (position < fileData.byteLength);\n",
              "  }\n",
              "\n",
              "  // All done.\n",
              "  yield {\n",
              "    response: {\n",
              "      action: 'complete',\n",
              "    }\n",
              "  };\n",
              "}\n",
              "\n",
              "scope.google = scope.google || {};\n",
              "scope.google.colab = scope.google.colab || {};\n",
              "scope.google.colab._files = {\n",
              "  _uploadFiles,\n",
              "  _uploadFilesContinue,\n",
              "};\n",
              "})(self);\n",
              "</script> "
            ]
          },
          "metadata": {}
        },
        {
          "output_type": "stream",
          "name": "stdout",
          "text": [
            "Saving S03_T01_F40_BGUlocal.csv to S03_T01_F40_BGUlocal (1).csv\n",
            "Saving S03_T01_F39_BGUlocal.csv to S03_T01_F39_BGUlocal (1).csv\n",
            "Starting File 1 of 2\n",
            "Starting File 2 of 2\n"
          ]
        },
        {
          "output_type": "display_data",
          "data": {
            "text/plain": [
              "<IPython.core.display.Javascript object>"
            ],
            "application/javascript": [
              "\n",
              "    async function download(id, filename, size) {\n",
              "      if (!google.colab.kernel.accessAllowed) {\n",
              "        return;\n",
              "      }\n",
              "      const div = document.createElement('div');\n",
              "      const label = document.createElement('label');\n",
              "      label.textContent = `Downloading \"${filename}\": `;\n",
              "      div.appendChild(label);\n",
              "      const progress = document.createElement('progress');\n",
              "      progress.max = size;\n",
              "      div.appendChild(progress);\n",
              "      document.body.appendChild(div);\n",
              "\n",
              "      const buffers = [];\n",
              "      let downloaded = 0;\n",
              "\n",
              "      const channel = await google.colab.kernel.comms.open(id);\n",
              "      // Send a message to notify the kernel that we're ready.\n",
              "      channel.send({})\n",
              "\n",
              "      for await (const message of channel.messages) {\n",
              "        // Send a message to notify the kernel that we're ready.\n",
              "        channel.send({})\n",
              "        if (message.buffers) {\n",
              "          for (const buffer of message.buffers) {\n",
              "            buffers.push(buffer);\n",
              "            downloaded += buffer.byteLength;\n",
              "            progress.value = downloaded;\n",
              "          }\n",
              "        }\n",
              "      }\n",
              "      const blob = new Blob(buffers, {type: 'application/binary'});\n",
              "      const a = document.createElement('a');\n",
              "      a.href = window.URL.createObjectURL(blob);\n",
              "      a.download = filename;\n",
              "      div.appendChild(a);\n",
              "      a.click();\n",
              "      div.remove();\n",
              "    }\n",
              "  "
            ]
          },
          "metadata": {}
        },
        {
          "output_type": "display_data",
          "data": {
            "text/plain": [
              "<IPython.core.display.Javascript object>"
            ],
            "application/javascript": [
              "download(\"download_940a8b1d-177c-4d48-80ba-3b22efce9a8d\", \"NN_Dataset.csv\", 1087070)"
            ]
          },
          "metadata": {}
        }
      ],
      "source": [
        "'''Run the collection code, uploading files and downloading to the specified file'''\n",
        "output_file = 'NN_Dataset.csv'''\n",
        "\n",
        "print(\"Starting Dataset Collection\")\n",
        "data_set = make_dataset_from_upload(logging=True)\n",
        "serialize_dataframe(data_set, output_file)"
      ]
    },
    {
      "cell_type": "code",
      "execution_count": null,
      "id": "7992bc5d-4685-492b-a954-e10db6264dc4",
      "metadata": {
        "id": "7992bc5d-4685-492b-a954-e10db6264dc4"
      },
      "outputs": [],
      "source": []
    }
  ],
  "metadata": {
    "kernelspec": {
      "display_name": "Python 3 (ipykernel)",
      "language": "python",
      "name": "python3"
    },
    "language_info": {
      "codemirror_mode": {
        "name": "ipython",
        "version": 3
      },
      "file_extension": ".py",
      "mimetype": "text/x-python",
      "name": "python",
      "nbconvert_exporter": "python",
      "pygments_lexer": "ipython3",
      "version": "3.10.8"
    },
    "colab": {
      "provenance": []
    }
  },
  "nbformat": 4,
  "nbformat_minor": 5
}