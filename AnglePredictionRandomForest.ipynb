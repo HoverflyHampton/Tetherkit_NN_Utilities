{
 "cells": [
  {
   "cell_type": "code",
   "execution_count": null,
   "metadata": {},
   "outputs": [],
   "source": [
    "import pandas as pd\n",
    "from sklearn.ensemble import RandomForestRegressor\n",
    "import matplotlib.pyplot as plt\n",
    "import numpy as np\n",
    "from google.colab import files"
   ]
  },
  {
   "cell_type": "code",
   "execution_count": null,
   "metadata": {},
   "outputs": [],
   "source": [
    "def load_and_train_model(file_path):\n",
    "    # Load the data\n",
    "    data = pd.read_excel(file_path)\n",
    "\n",
    "    # Splitting the data into features and targets\n",
    "    X = data[['Roll', 'Pitch', 'Altitude', 'Tether Roll', 'Tether Pitch']]\n",
    "    y = data[['RTKRoll', 'RTKPitch']]\n",
    "\n",
    "    # Initialize and train the Random Forest Regressor on the entire dataset\n",
    "    rf_regressor = RandomForestRegressor(n_estimators=100, random_state=42)\n",
    "    rf_regressor.fit(X, y)\n",
    "\n",
    "    # Predicting on the entire dataset\n",
    "    y_pred = rf_regressor.predict(X)\n",
    "\n",
    "\n",
    "\n",
    "    # Calculating the time for each point in the dataset (0.2 seconds per row)\n",
    "    time = np.arange(0, len(X) * 0.2, 0.2)\n",
    "\n",
    "    # Plotting the results\n",
    "    plt.figure(figsize=(12, 10))\n",
    "\n",
    "    # Plot for RTKRoll over time\n",
    "    plt.subplot(2, 1, 1)\n",
    "    # plt.plot(time, y['RTKRoll'], label='Actual Roll')\n",
    "    # plt.plot(time, y_pred[:, 0], label='Predicted Roll')\n",
    "    # plt.plot(time, X['Tether Roll'], label='ATS Roll')\n",
    "    plt.plot(time, y_pred[:, 0] - y['RTKRoll'], label=\"Roll Delta\")\n",
    "    plt.xlabel('Time (seconds)')\n",
    "    plt.ylabel('Roll')\n",
    "    plt.title('Machine Learning Comparison Roll')\n",
    "    plt.legend()\n",
    "\n",
    "    # Plot for RTKPitch over time\n",
    "    plt.subplot(2, 1, 2)\n",
    "    plt.plot(time, y['RTKPitch'], label='Actual Pitch')\n",
    "    plt.plot(time, y_pred[:, 1], label='Predicted Pitch')\n",
    "    plt.plot(time, X['Tether Pitch'], label='ATS Pitch')\n",
    "    plt.xlabel('Time (seconds)')\n",
    "    plt.ylabel('Pitch')\n",
    "    plt.title('Machine Learning Comparison Pitch')\n",
    "    plt.legend()\n",
    "\n",
    "    plt.tight_layout()\n",
    "    print(\"Preparing to display plot...\")\n",
    "\n",
    "    plt.show()"
   ]
  },
  {
   "cell_type": "code",
   "execution_count": null,
   "metadata": {},
   "outputs": [],
   "source": [
    "uploaded = files.upload()\n",
    "load_and_train_model(uploaded)"
   ]
  }
 ],
 "metadata": {
  "language_info": {
   "name": "python"
  }
 },
 "nbformat": 4,
 "nbformat_minor": 2
}
